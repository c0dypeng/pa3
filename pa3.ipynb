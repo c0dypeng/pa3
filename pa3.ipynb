{
 "cells": [
  {
   "cell_type": "code",
   "execution_count": 1,
   "id": "ea588a15",
   "metadata": {},
   "outputs": [],
   "source": [
    "import csv\n",
    "import numpy as np\n",
    "import numpy as np \n",
    "from os import listdir\n",
    "import nltk\n",
    "\n",
    "### texts preprocessing\n",
    "\n",
    "import numpy as np \n",
    "from os import listdir\n",
    "\n",
    "txt_files = []\n",
    "for i in range(1, 1096):\n",
    "    with open('PA3-data/'+str(i)+\".txt\") as f:\n",
    "        txt_files.append((\" \".join(line.strip() for line in f)))"
   ]
  },
  {
   "cell_type": "code",
   "execution_count": 2,
   "id": "b50ab8b4",
   "metadata": {},
   "outputs": [],
   "source": [
    "### labels\n",
    "\n",
    "label = np.zeros(1095)\n",
    "\n",
    "with open('training.txt') as f:\n",
    "    for line in f:\n",
    "        token = nltk.tokenize.word_tokenize(line)\n",
    "        num = int(token[0])\n",
    "        for i in range(1, len(token)):\n",
    "            label[int(token[i])-1] = num"
   ]
  },
  {
   "cell_type": "code",
   "execution_count": 3,
   "id": "fbc175de",
   "metadata": {},
   "outputs": [],
   "source": [
    "import sys\n",
    "!{sys.executable} -m pip install keras-bert"
   ]
  },
  {
   "cell_type": "code",
   "execution_count": 5,
   "id": "1310c09e",
   "metadata": {},
   "outputs": [
    {
     "name": "stdout",
     "output_type": "stream",
     "text": [
      "Requirement already satisfied: tensorflow==2.11.0 in /Users/c0dyp3n6/opt/anaconda3/lib/python3.9/site-packages (2.11.0)\n",
      "Requirement already satisfied: wrapt>=1.11.0 in /Users/c0dyp3n6/opt/anaconda3/lib/python3.9/site-packages (from tensorflow==2.11.0) (1.14.1)\n",
      "Requirement already satisfied: google-pasta>=0.1.1 in /Users/c0dyp3n6/opt/anaconda3/lib/python3.9/site-packages (from tensorflow==2.11.0) (0.2.0)\n",
      "Requirement already satisfied: tensorflow-io-gcs-filesystem>=0.23.1 in /Users/c0dyp3n6/opt/anaconda3/lib/python3.9/site-packages (from tensorflow==2.11.0) (0.28.0)\n",
      "Requirement already satisfied: h5py>=2.9.0 in /Users/c0dyp3n6/opt/anaconda3/lib/python3.9/site-packages (from tensorflow==2.11.0) (3.7.0)\n",
      "Requirement already satisfied: packaging in /Users/c0dyp3n6/opt/anaconda3/lib/python3.9/site-packages (from tensorflow==2.11.0) (21.3)\n",
      "Requirement already satisfied: grpcio<2.0,>=1.24.3 in /Users/c0dyp3n6/opt/anaconda3/lib/python3.9/site-packages (from tensorflow==2.11.0) (1.51.1)\n",
      "Requirement already satisfied: astunparse>=1.6.0 in /Users/c0dyp3n6/opt/anaconda3/lib/python3.9/site-packages (from tensorflow==2.11.0) (1.6.3)\n",
      "Requirement already satisfied: six>=1.12.0 in /Users/c0dyp3n6/opt/anaconda3/lib/python3.9/site-packages (from tensorflow==2.11.0) (1.16.0)\n",
      "Requirement already satisfied: termcolor>=1.1.0 in /Users/c0dyp3n6/opt/anaconda3/lib/python3.9/site-packages (from tensorflow==2.11.0) (2.1.1)\n",
      "Requirement already satisfied: tensorboard<2.12,>=2.11 in /Users/c0dyp3n6/opt/anaconda3/lib/python3.9/site-packages (from tensorflow==2.11.0) (2.11.0)\n",
      "Requirement already satisfied: opt-einsum>=2.3.2 in /Users/c0dyp3n6/opt/anaconda3/lib/python3.9/site-packages (from tensorflow==2.11.0) (3.3.0)\n",
      "Requirement already satisfied: keras<2.12,>=2.11.0 in /Users/c0dyp3n6/opt/anaconda3/lib/python3.9/site-packages (from tensorflow==2.11.0) (2.11.0)\n",
      "Requirement already satisfied: protobuf<3.20,>=3.9.2 in /Users/c0dyp3n6/opt/anaconda3/lib/python3.9/site-packages (from tensorflow==2.11.0) (3.19.6)\n",
      "Requirement already satisfied: gast<=0.4.0,>=0.2.1 in /Users/c0dyp3n6/opt/anaconda3/lib/python3.9/site-packages (from tensorflow==2.11.0) (0.4.0)\n",
      "Requirement already satisfied: absl-py>=1.0.0 in /Users/c0dyp3n6/opt/anaconda3/lib/python3.9/site-packages (from tensorflow==2.11.0) (1.3.0)\n",
      "Requirement already satisfied: flatbuffers>=2.0 in /Users/c0dyp3n6/opt/anaconda3/lib/python3.9/site-packages (from tensorflow==2.11.0) (22.11.23)\n",
      "Requirement already satisfied: numpy>=1.20 in /Users/c0dyp3n6/opt/anaconda3/lib/python3.9/site-packages (from tensorflow==2.11.0) (1.21.5)\n",
      "Requirement already satisfied: typing-extensions>=3.6.6 in /Users/c0dyp3n6/opt/anaconda3/lib/python3.9/site-packages (from tensorflow==2.11.0) (4.3.0)\n",
      "Requirement already satisfied: libclang>=13.0.0 in /Users/c0dyp3n6/opt/anaconda3/lib/python3.9/site-packages (from tensorflow==2.11.0) (14.0.6)\n",
      "Requirement already satisfied: setuptools in /Users/c0dyp3n6/opt/anaconda3/lib/python3.9/site-packages (from tensorflow==2.11.0) (63.4.1)\n",
      "Requirement already satisfied: tensorflow-estimator<2.12,>=2.11.0 in /Users/c0dyp3n6/opt/anaconda3/lib/python3.9/site-packages (from tensorflow==2.11.0) (2.11.0)\n",
      "Requirement already satisfied: wheel<1.0,>=0.23.0 in /Users/c0dyp3n6/opt/anaconda3/lib/python3.9/site-packages (from astunparse>=1.6.0->tensorflow==2.11.0) (0.37.1)\n",
      "Requirement already satisfied: tensorboard-plugin-wit>=1.6.0 in /Users/c0dyp3n6/opt/anaconda3/lib/python3.9/site-packages (from tensorboard<2.12,>=2.11->tensorflow==2.11.0) (1.8.1)\n",
      "Requirement already satisfied: google-auth<3,>=1.6.3 in /Users/c0dyp3n6/opt/anaconda3/lib/python3.9/site-packages (from tensorboard<2.12,>=2.11->tensorflow==2.11.0) (2.15.0)\n",
      "Requirement already satisfied: tensorboard-data-server<0.7.0,>=0.6.0 in /Users/c0dyp3n6/opt/anaconda3/lib/python3.9/site-packages (from tensorboard<2.12,>=2.11->tensorflow==2.11.0) (0.6.1)\n",
      "Requirement already satisfied: google-auth-oauthlib<0.5,>=0.4.1 in /Users/c0dyp3n6/opt/anaconda3/lib/python3.9/site-packages (from tensorboard<2.12,>=2.11->tensorflow==2.11.0) (0.4.6)\n",
      "Requirement already satisfied: markdown>=2.6.8 in /Users/c0dyp3n6/opt/anaconda3/lib/python3.9/site-packages (from tensorboard<2.12,>=2.11->tensorflow==2.11.0) (3.3.4)\n",
      "Requirement already satisfied: requests<3,>=2.21.0 in /Users/c0dyp3n6/opt/anaconda3/lib/python3.9/site-packages (from tensorboard<2.12,>=2.11->tensorflow==2.11.0) (2.28.1)\n",
      "Requirement already satisfied: werkzeug>=1.0.1 in /Users/c0dyp3n6/opt/anaconda3/lib/python3.9/site-packages (from tensorboard<2.12,>=2.11->tensorflow==2.11.0) (2.0.3)\n",
      "Requirement already satisfied: pyparsing!=3.0.5,>=2.0.2 in /Users/c0dyp3n6/opt/anaconda3/lib/python3.9/site-packages (from packaging->tensorflow==2.11.0) (3.0.9)\n",
      "Requirement already satisfied: pyasn1-modules>=0.2.1 in /Users/c0dyp3n6/opt/anaconda3/lib/python3.9/site-packages (from google-auth<3,>=1.6.3->tensorboard<2.12,>=2.11->tensorflow==2.11.0) (0.2.8)\n",
      "Requirement already satisfied: rsa<5,>=3.1.4 in /Users/c0dyp3n6/opt/anaconda3/lib/python3.9/site-packages (from google-auth<3,>=1.6.3->tensorboard<2.12,>=2.11->tensorflow==2.11.0) (4.9)\n",
      "Requirement already satisfied: cachetools<6.0,>=2.0.0 in /Users/c0dyp3n6/opt/anaconda3/lib/python3.9/site-packages (from google-auth<3,>=1.6.3->tensorboard<2.12,>=2.11->tensorflow==2.11.0) (5.2.0)\n",
      "Requirement already satisfied: requests-oauthlib>=0.7.0 in /Users/c0dyp3n6/opt/anaconda3/lib/python3.9/site-packages (from google-auth-oauthlib<0.5,>=0.4.1->tensorboard<2.12,>=2.11->tensorflow==2.11.0) (1.3.1)\n",
      "Requirement already satisfied: idna<4,>=2.5 in /Users/c0dyp3n6/opt/anaconda3/lib/python3.9/site-packages (from requests<3,>=2.21.0->tensorboard<2.12,>=2.11->tensorflow==2.11.0) (3.3)\n",
      "Requirement already satisfied: certifi>=2017.4.17 in /Users/c0dyp3n6/opt/anaconda3/lib/python3.9/site-packages (from requests<3,>=2.21.0->tensorboard<2.12,>=2.11->tensorflow==2.11.0) (2022.9.24)\n",
      "Requirement already satisfied: urllib3<1.27,>=1.21.1 in /Users/c0dyp3n6/opt/anaconda3/lib/python3.9/site-packages (from requests<3,>=2.21.0->tensorboard<2.12,>=2.11->tensorflow==2.11.0) (1.26.11)\n",
      "Requirement already satisfied: charset-normalizer<3,>=2 in /Users/c0dyp3n6/opt/anaconda3/lib/python3.9/site-packages (from requests<3,>=2.21.0->tensorboard<2.12,>=2.11->tensorflow==2.11.0) (2.0.4)\n",
      "Requirement already satisfied: pyasn1<0.5.0,>=0.4.6 in /Users/c0dyp3n6/opt/anaconda3/lib/python3.9/site-packages (from pyasn1-modules>=0.2.1->google-auth<3,>=1.6.3->tensorboard<2.12,>=2.11->tensorflow==2.11.0) (0.4.8)\n",
      "Requirement already satisfied: oauthlib>=3.0.0 in /Users/c0dyp3n6/opt/anaconda3/lib/python3.9/site-packages (from requests-oauthlib>=0.7.0->google-auth-oauthlib<0.5,>=0.4.1->tensorboard<2.12,>=2.11->tensorflow==2.11.0) (3.2.2)\n"
     ]
    }
   ],
   "source": [
    "import sys\n",
    "!{sys.executable} -m pip install tensorflow"
   ]
  },
  {
   "cell_type": "code",
   "execution_count": null,
   "id": "9c0fcf19",
   "metadata": {},
   "outputs": [],
   "source": [
    "from keras_bert import extract_embeddings\n",
    "from keras_bert import load_vocabulary\n",
    "from keras_bert import Tokenizer"
   ]
  },
  {
   "cell_type": "code",
   "execution_count": null,
   "id": "28399d55",
   "metadata": {},
   "outputs": [],
   "source": [
    "model_path = 'uncased_L-2_H-128_A-2'\n",
    "dict_path = 'uncased_L-2_H-128_A-2/vocab.txt'\n",
    "\n",
    "bert_token_dict = load_vocabulary(dict_path)\n",
    "bert_tokenizer = Tokenizer(bert_token_dict)\n",
    "\n",
    "embeddings = extract_embeddings(model_path, txt_files[0])\n"
   ]
  }
 ],
 "metadata": {
  "kernelspec": {
   "display_name": "Python 3 (ipykernel)",
   "language": "python",
   "name": "python3"
  },
  "language_info": {
   "codemirror_mode": {
    "name": "ipython",
    "version": 3
   },
   "file_extension": ".py",
   "mimetype": "text/x-python",
   "name": "python",
   "nbconvert_exporter": "python",
   "pygments_lexer": "ipython3",
   "version": "3.9.13"
  }
 },
 "nbformat": 4,
 "nbformat_minor": 5
}
